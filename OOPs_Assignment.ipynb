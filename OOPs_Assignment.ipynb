{
 "cells": [
  {
   "cell_type": "markdown",
   "id": "d64d6d8d",
   "metadata": {},
   "source": [
    "# DEPARTMENT MANAGEMENT SYSTEM IN PYTHON"
   ]
  },
  {
   "cell_type": "markdown",
   "id": "e0c6d3c4",
   "metadata": {},
   "source": [
    "# Define a Department Class with Relevant Attributes and Behaviors"
   ]
  },
  {
   "cell_type": "markdown",
   "id": "1840354c",
   "metadata": {},
   "source": [
    "Create a Python class called Department to represent a department. The class should include both data (attributes) and behavior (methods).\n",
    "\n",
    "**Define a class named Department.**\n",
    "\n",
    "Include the following instance attributes:\n",
    "- dept_id\n",
    "- name\n",
    "- location\n",
    "- head_of_dept\n",
    "\n",
    "Include a class variable:\n",
    "- dept_count: Keeps track of how many department objects have been created.\n",
    "\n",
    "Define a method display_department_info() that:\n",
    "- Prints all the details of the department.\n",
    "\n",
    "Define a class method get_total_departments() that:\n",
    "- Returns the total number of departments created."
   ]
  },
  {
   "cell_type": "code",
   "execution_count": 10,
   "id": "4a59cbd3",
   "metadata": {},
   "outputs": [
    {
     "name": "stdout",
     "output_type": "stream",
     "text": [
      "Department class defined successfully.\n"
     ]
    }
   ],
   "source": [
    "class Department:\n",
    "    dept_count = 0  \n",
    "    def __init__(self, dept_id, name, location, head_of_dept):\n",
    "        self.dept_id = dept_id\n",
    "        self.name = name\n",
    "        self.location = location\n",
    "        self.head_of_dept = head_of_dept\n",
    "        Department.dept_count += 1\n",
    "\n",
    "    def display_department_info(self):\n",
    "        print(\"\\nDepartment Information:\")\n",
    "        print(\"------------------------\")\n",
    "        print(f\"Dept ID       : {self.dept_id}\")\n",
    "        print(f\"Name          : {self.name}\")\n",
    "        print(f\"Location      : {self.location}\")\n",
    "        print(f\"Head of Dept  : {self.head_of_dept}\")\n",
    "\n",
    "    @classmethod\n",
    "    def get_total_departments(cls):\n",
    "        return cls.dept_count\n",
    "\n",
    "print(\"Department class defined successfully.\")\n"
   ]
  },
  {
   "cell_type": "markdown",
   "id": "58bcfe97",
   "metadata": {},
   "source": [
    "# Create Department from User Input"
   ]
  },
  {
   "cell_type": "code",
   "execution_count": 11,
   "id": "c22545c5",
   "metadata": {},
   "outputs": [
    {
     "name": "stdout",
     "output_type": "stream",
     "text": [
      "\n",
      "Enter details for department:\n",
      "\n",
      "Department Information:\n",
      "------------------------\n",
      "Dept ID       : 1\n",
      "Name          : IT\n",
      "Location      : Pearl\n",
      "Head of Dept  : Aruna Rao\n",
      "\n",
      "Total Departments Created: 1\n"
     ]
    }
   ],
   "source": [
    "Department.dept_count = 0\n",
    "\n",
    "print(\"\\nEnter details for department:\")\n",
    "dept_id = input(\"Enter Department ID: \")\n",
    "name = input(\"Enter Department Name: \")\n",
    "location = input(\"Enter Department Location: \")\n",
    "head_of_dept = input(\"Enter Head of Department: \")\n",
    "\n",
    "dept = Department(dept_id, name, location, head_of_dept)\n",
    "\n",
    "dept.display_department_info()\n",
    "\n",
    "print(f\"\\nTotal Departments Created: {Department.get_total_departments()}\")\n"
   ]
  },
  {
   "cell_type": "markdown",
   "id": "9d3b95a7",
   "metadata": {},
   "source": [
    "# How many departments do you want to create, and what are their details?"
   ]
  },
  {
   "cell_type": "markdown",
   "id": "f2e556fc",
   "metadata": {},
   "source": [
    "Ask the user how many departments they wish to create.\n",
    "Then, take input for each department's details including:\n",
    "\n",
    "Department ID\n",
    "\n",
    "Department Name\n",
    "\n",
    "Department Location\n",
    "\n",
    "Head of Department\n",
    "\n",
    "After entering each department, display its information .\n",
    "\n",
    "Finally, display the total number of departments created."
   ]
  },
  {
   "cell_type": "code",
   "execution_count": 5,
   "id": "b70085ab",
   "metadata": {},
   "outputs": [
    {
     "name": "stdout",
     "output_type": "stream",
     "text": [
      "\n",
      "Enter details for Department 1:\n",
      "\n",
      "Department Information:\n",
      "------------------------\n",
      "Dept ID       : 1\n",
      "Name          : IT\n",
      "Location      : Pearl\n",
      "Head of Dept  : Aruna Rao\n",
      "\n",
      "Enter details for Department 2:\n",
      "\n",
      "Department Information:\n",
      "------------------------\n",
      "Dept ID       : 2\n",
      "Name          : EEE\n",
      "Location      : Emerald\n",
      "Head of Dept  : Alice\n",
      "\n",
      "Successfully created 2 departments.\n"
     ]
    }
   ],
   "source": [
    "Department.dept_count = 0  # Resetting count for fresh run\n",
    "n = int(input(\"Enter the number of departments to create: \"))\n",
    "department_list = []\n",
    "\n",
    "for i in range(n):\n",
    "    print(f\"\\nEnter details for Department {i + 1}:\")\n",
    "    dept_id = input(\"Enter Department ID: \")\n",
    "    name = input(\"Enter Department Name: \")\n",
    "    location = input(\"Enter Department Location: \")\n",
    "    head_of_dept = input(\"Enter Head of Department: \")\n",
    "\n",
    "    dept = Department(dept_id, name, location, head_of_dept)\n",
    "    department_list.append(dept)\n",
    "    dept.display_department_info()\n",
    "\n",
    "print(f\"\\nSuccessfully created {Department.get_total_departments()} departments.\")\n"
   ]
  },
  {
   "cell_type": "markdown",
   "id": "a78fd674",
   "metadata": {},
   "source": [
    "# Display All Department Details"
   ]
  },
  {
   "cell_type": "code",
   "execution_count": 6,
   "id": "418fce44",
   "metadata": {},
   "outputs": [
    {
     "name": "stdout",
     "output_type": "stream",
     "text": [
      "\n",
      "==============================\n",
      "     All Department Details   \n",
      "==============================\n",
      "\n",
      "Department Information:\n",
      "------------------------\n",
      "Dept ID       : 1\n",
      "Name          : IT\n",
      "Location      : Pearl\n",
      "Head of Dept  : Aruna Rao\n",
      "\n",
      "Department Information:\n",
      "------------------------\n",
      "Dept ID       : 2\n",
      "Name          : EEE\n",
      "Location      : Emerald\n",
      "Head of Dept  : Alice\n",
      "\n",
      "Total Departments Created: 2\n"
     ]
    }
   ],
   "source": [
    "print(\"\\n==============================\")\n",
    "print(\"     All Department Details   \")\n",
    "print(\"==============================\")\n",
    "\n",
    "for dept in department_list:\n",
    "    dept.display_department_info()\n",
    "\n",
    "print(f\"\\nTotal Departments Created: {Department.get_total_departments()}\")\n"
   ]
  },
  {
   "cell_type": "markdown",
   "id": "40ef2151",
   "metadata": {},
   "source": [
    "# Search for a department by its Department ID"
   ]
  },
  {
   "cell_type": "code",
   "execution_count": 7,
   "id": "1d9ad797",
   "metadata": {},
   "outputs": [
    {
     "name": "stdout",
     "output_type": "stream",
     "text": [
      "\n",
      "Department Found:\n",
      "\n",
      "Department Information:\n",
      "------------------------\n",
      "Dept ID       : 2\n",
      "Name          : EEE\n",
      "Location      : Emerald\n",
      "Head of Dept  : Alice\n"
     ]
    }
   ],
   "source": [
    "search_id = input(\"\\nEnter Department ID to search: \")\n",
    "found = False\n",
    "\n",
    "for dept in department_list:\n",
    "    if dept.dept_id == search_id:\n",
    "        print(\"\\nDepartment Found:\")\n",
    "        dept.display_department_info()\n",
    "        found = True\n",
    "        break\n",
    "\n",
    "if not found:\n",
    "    print(\"\\nDepartment with the given ID not found.\")\n"
   ]
  },
  {
   "cell_type": "markdown",
   "id": "7b76d3b2",
   "metadata": {},
   "source": [
    "# Search for a department by its name"
   ]
  },
  {
   "cell_type": "code",
   "execution_count": 8,
   "id": "adb3db19",
   "metadata": {},
   "outputs": [
    {
     "name": "stdout",
     "output_type": "stream",
     "text": [
      "\n",
      "Department Found:\n",
      "\n",
      "Department Information:\n",
      "------------------------\n",
      "Dept ID       : 2\n",
      "Name          : EEE\n",
      "Location      : Emerald\n",
      "Head of Dept  : Alice\n"
     ]
    }
   ],
   "source": [
    "search_name = input(\"\\nEnter Department Name to search: \")\n",
    "found = False\n",
    "\n",
    "for dept in department_list:\n",
    "    if dept.name.lower() == search_name.lower():\n",
    "        print(\"\\nDepartment Found:\")\n",
    "        dept.display_department_info()\n",
    "        found = True\n",
    "        break\n",
    "\n",
    "if not found:\n",
    "    print(\"\\nDepartment with the given name not found.\")"
   ]
  }
 ],
 "metadata": {
  "kernelspec": {
   "display_name": "Python 3",
   "language": "python",
   "name": "python3"
  },
  "language_info": {
   "codemirror_mode": {
    "name": "ipython",
    "version": 3
   },
   "file_extension": ".py",
   "mimetype": "text/x-python",
   "name": "python",
   "nbconvert_exporter": "python",
   "pygments_lexer": "ipython3",
   "version": "3.10.8"
  }
 },
 "nbformat": 4,
 "nbformat_minor": 5
}
