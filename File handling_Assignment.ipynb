{
 "cells": [
  {
   "cell_type": "markdown",
   "id": "39169773",
   "metadata": {},
   "source": [
    "# Create and Write to a File (sample.txt)"
   ]
  },
  {
   "cell_type": "code",
   "execution_count": null,
   "id": "bddad19a",
   "metadata": {},
   "outputs": [],
   "source": [
    "with open(\"sample.txt\", \"w\") as file:\n",
    "    file.write(\"Hello, this is the first line.\\n\")\n",
    "    file.write(\"Writing to sample.txt file.\\n\")"
   ]
  },
  {
   "cell_type": "markdown",
   "id": "8b89aa1e",
   "metadata": {},
   "source": [
    "# Append to the Sample File"
   ]
  },
  {
   "cell_type": "code",
   "execution_count": 1,
   "id": "d9b87ca8",
   "metadata": {},
   "outputs": [],
   "source": [
    "with open(\"sample.txt\", \"a\") as file:\n",
    "    file.write(\"This line is appended.\\n\")\n",
    "    file.write(\"Appending more text.\\n\")"
   ]
  },
  {
   "cell_type": "markdown",
   "id": "254fc54d",
   "metadata": {},
   "source": [
    "# Read the File Content"
   ]
  },
  {
   "cell_type": "code",
   "execution_count": 2,
   "id": "8a0856cc",
   "metadata": {},
   "outputs": [
    {
     "name": "stdout",
     "output_type": "stream",
     "text": [
      "Contents of sample.txt:\n",
      "\n",
      "This line is appended.\n",
      "Appending more text.\n",
      "\n"
     ]
    }
   ],
   "source": [
    "with open(\"sample.txt\", \"r\") as file:\n",
    "    content = file.read()\n",
    "    print(\"Contents of sample.txt:\\n\")\n",
    "    print(content)"
   ]
  }
 ],
 "metadata": {
  "kernelspec": {
   "display_name": "Python 3",
   "language": "python",
   "name": "python3"
  },
  "language_info": {
   "codemirror_mode": {
    "name": "ipython",
    "version": 3
   },
   "file_extension": ".py",
   "mimetype": "text/x-python",
   "name": "python",
   "nbconvert_exporter": "python",
   "pygments_lexer": "ipython3",
   "version": "3.10.8"
  }
 },
 "nbformat": 4,
 "nbformat_minor": 5
}
